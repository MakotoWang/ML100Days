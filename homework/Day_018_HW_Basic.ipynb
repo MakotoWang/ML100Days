{
 "cells": [
  {
   "cell_type": "markdown",
   "metadata": {},
   "source": [
    "題目 : \n",
    "\n",
    "    在速度較慢的時候，可以先從哪邊開始檢查？\n",
    "    資料過大時應採取什麼方式讓記憶體占用量下降？\n"
   ]
  },
  {
   "cell_type": "code",
   "execution_count": 1,
   "metadata": {},
   "outputs": [],
   "source": [
    "#Q1. 在速度較慢的時候，可以先從哪邊開始檢查？"
   ]
  },
  {
   "cell_type": "code",
   "execution_count": 2,
   "metadata": {},
   "outputs": [
    {
     "data": {
      "text/plain": [
       "\"\\n\\n1. 讀取資料型態選最快速的：比方說從xlsx檔，變成獨取csv檔，或是將csv檔讀入之後，透過程式先將檔案轉為最快的pkl檔案後再運作\\n2. 多使用內建函數：比方說使用agg取代transform，使用時多使用內建的函式，如agg('mean')，而非使用 mean()\\n3. 向量化的資料處理：使用像是 isin() 的向量化資料處理函式，取代像是迴圈、甚至是apply的方式\\n\\n\\n\""
      ]
     },
     "execution_count": 2,
     "metadata": {},
     "output_type": "execute_result"
    }
   ],
   "source": [
    "\"\"\"\n",
    "\n",
    "1. 讀取資料型態選最快速的：比方說從xlsx檔，變成獨取csv檔，或是將csv檔讀入之後，透過程式先將檔案轉為最快的pkl檔案後再運作\n",
    "2. 多使用內建函數：比方說使用agg取代transform，使用時多使用內建的函式，如agg('mean')，而非使用 mean()\n",
    "3. 向量化的資料處理：使用像是 isin() 的向量化資料處理函式，取代像是迴圈、甚至是apply的方式\n",
    "\n",
    "\n",
    "\"\"\""
   ]
  },
  {
   "cell_type": "code",
   "execution_count": 3,
   "metadata": {},
   "outputs": [],
   "source": [
    "#Q2. 資料過大時應採取什麼方式讓記憶體占用量下降？"
   ]
  },
  {
   "cell_type": "code",
   "execution_count": 4,
   "metadata": {},
   "outputs": [
    {
     "data": {
      "text/plain": [
       "'\\n\\n將欄位的型態降級，降低記憶體空間。\\n比方說數值都是正整數的話，可以將資料由 int 轉為 uint\\n或是浮點數 float64 降級為 float32\\n\\n'"
      ]
     },
     "execution_count": 4,
     "metadata": {},
     "output_type": "execute_result"
    }
   ],
   "source": [
    "\"\"\"\n",
    "\n",
    "將欄位的型態降級，降低記憶體空間。\n",
    "比方說數值都是正整數的話，可以將資料由 int 轉為 uint\n",
    "或是浮點數 float64 降級為 float32\n",
    "\n",
    "\"\"\""
   ]
  },
  {
   "cell_type": "code",
   "execution_count": null,
   "metadata": {},
   "outputs": [],
   "source": []
  }
 ],
 "metadata": {
  "kernelspec": {
   "display_name": "Python 3",
   "language": "python",
   "name": "python3"
  },
  "language_info": {
   "codemirror_mode": {
    "name": "ipython",
    "version": 3
   },
   "file_extension": ".py",
   "mimetype": "text/x-python",
   "name": "python",
   "nbconvert_exporter": "python",
   "pygments_lexer": "ipython3",
   "version": "3.8.5"
  }
 },
 "nbformat": 4,
 "nbformat_minor": 4
}
