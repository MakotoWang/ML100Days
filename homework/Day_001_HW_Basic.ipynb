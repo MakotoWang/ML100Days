{
 "cells": [
  {
   "cell_type": "markdown",
   "metadata": {
    "id": "P6xk2_jLsvFF"
   },
   "source": [
    "# [作業目標]\n",
    "\n",
    "1. [簡答題] 請問下列兩種將 Array 轉換成 List 的方式有何不同？\n",
    "\n",
    "```\n",
    "print('list(a): ', list(a))\n",
    "print('tolist(): ', a.tolist())\n",
    "```\n",
    "\n",
    "2. 請試著在程式中印出以下三個 NdArray 的屬性？（屬性：ndim、shape、size、dtype、itemsize、length、type）\n",
    "\n",
    "```\n",
    "a = np.random.randint(10, size=6) \n",
    "b = np.random.randint(10, size=(3,4)) \n",
    "c = np.random.randint(10, size=(2,3,2)) \n",
    "```\n",
    "\n",
    "3. 如何利用 list(...) 實現 a.tolist() 的效果？試著用程式實作。\n"
   ]
  },
  {
   "cell_type": "markdown",
   "metadata": {
    "id": "uXGll28asvFS"
   },
   "source": [
    "# 作業 "
   ]
  },
  {
   "cell_type": "markdown",
   "metadata": {
    "id": "SYkvkp9YLwB7"
   },
   "source": [
    "### 1. [簡答題] 請問下列兩種將 Array 轉換成 List 的方式有何不同？\n",
    "\n",
    "```\n",
    "print('list(a): ', list(a))\n",
    "print('tolist(): ', a.tolist())\n",
    "```\n"
   ]
  },
  {
   "cell_type": "code",
   "execution_count": 1,
   "metadata": {
    "id": "5QrYoyNWsvFS",
    "outputId": "13f374d0-6f1b-47aa-bbac-c7d1a8c6995c"
   },
   "outputs": [],
   "source": [
    "#list(a)：若是多維陣列，只會將第一層轉成list，剩下的會維持原本的型態\n",
    "#tolist(a)：確實將每一層陣列轉換為list"
   ]
  },
  {
   "cell_type": "markdown",
   "metadata": {
    "id": "AC9wUCyALwB9"
   },
   "source": [
    "### 2. 請試著在程式中印出以下三個 NdArray 的屬性並且解釋結果？（屬性：ndim、shape、size、dtype、itemsize、length、type）\n",
    "\n",
    "```\n",
    "a = np.random.randint(10, size=6) \n",
    "b = np.random.randint(10, size=(3,4)) \n",
    "c = np.random.randint(10, size=(2,3,2)) \n",
    "```"
   ]
  },
  {
   "cell_type": "code",
   "execution_count": 2,
   "metadata": {
    "id": "4qARRsdtLwB-"
   },
   "outputs": [],
   "source": [
    "# 記得先 Import 正確的套件\n",
    "import numpy as np"
   ]
  },
  {
   "cell_type": "code",
   "execution_count": 3,
   "metadata": {
    "id": "e1gVI0tvsvFY",
    "outputId": "9be10770-9042-40c8-c4bc-217b84be9fc9"
   },
   "outputs": [
    {
     "name": "stdout",
     "output_type": "stream",
     "text": [
      "[2 6 8 5 9 5]\n",
      "1\n",
      "(6,)\n",
      "6\n",
      "int32\n",
      "4\n",
      "6\n",
      "<class 'numpy.ndarray'>\n"
     ]
    }
   ],
   "source": [
    "a = np.random.randint(10, size=6) \n",
    "\n",
    "print(a) #建立一個一維陣列，陣列大小是6，裡面的每個值：從數字0~9，隨機取出6個數字(可重複)\n",
    "print(a.ndim) #陣列有多少維度：1維\n",
    "print(a.shape) #每個維度的大小：6\n",
    "print(a.size) #陣列當中有幾個元素：6\n",
    "print(a.dtype) #陣列中的資料型態：int32\n",
    "print(a.itemsize) #陣列中每個元素佔用的空間：4 byte\n",
    "print(len(a)) #回傳第一層陣列的長度：6\n",
    "print(type(a)) #回傳 a 元素的資料型態：numpy.ndarray，即 numpy 的多維陣列型態"
   ]
  },
  {
   "cell_type": "code",
   "execution_count": 4,
   "metadata": {
    "id": "iIJrIr7kLwB_",
    "outputId": "083c5519-394c-404e-9764-100c4ed5118a"
   },
   "outputs": [
    {
     "name": "stdout",
     "output_type": "stream",
     "text": [
      "[[1 7 4 9]\n",
      " [6 6 2 1]\n",
      " [2 2 6 8]]\n",
      "2\n",
      "(3, 4)\n",
      "12\n",
      "int32\n",
      "4\n",
      "3\n",
      "<class 'numpy.ndarray'>\n"
     ]
    }
   ],
   "source": [
    "b = np.random.randint(10, size=(3,4)) \n",
    "\n",
    "print(b) #建立一個二維陣列，陣列大小是3x4，裡面的每個值：從數字0~9，隨機取出數字(可重複)\n",
    "print(b.ndim) #陣列有多少維度：2維\n",
    "print(b.shape) #每個維度的大小：第一維是 3，第二維是 4\n",
    "print(b.size) #陣列當中有幾個元素：12\n",
    "print(b.dtype) #陣列中的資料型態：int32\n",
    "print(b.itemsize) #陣列中每個元素佔用的空間：4 byte\n",
    "print(len(b)) #回傳第一層陣列的長度：3\n",
    "print(type(b)) #回傳 b 元素的資料型態：numpy.ndarray，即 numpy 的多維陣列型態"
   ]
  },
  {
   "cell_type": "code",
   "execution_count": 5,
   "metadata": {
    "id": "98SRFh_FLwCC",
    "outputId": "dc65dfac-9ae6-49d2-f854-88eccebc2aac"
   },
   "outputs": [
    {
     "name": "stdout",
     "output_type": "stream",
     "text": [
      "[[[5 9]\n",
      "  [2 4]\n",
      "  [5 2]]\n",
      "\n",
      " [[4 6]\n",
      "  [3 6]\n",
      "  [7 0]]]\n",
      "3\n",
      "(2, 3, 2)\n",
      "12\n",
      "int32\n",
      "4\n",
      "2\n",
      "<class 'numpy.ndarray'>\n"
     ]
    }
   ],
   "source": [
    "c = np.random.randint(10, size=(2,3,2)) \n",
    "\n",
    "print(c) #建立一個三維陣列，陣列大小是2x3x2，裡面的每個值：從數字0~9，隨機取出數字(可重複)\n",
    "print(c.ndim) #陣列有多少維度：3維\n",
    "print(c.shape) #每個維度的大小：第一維是 2，第二維是 3，第三維是 2\n",
    "print(c.size) #陣列當中有幾個元素：12\n",
    "print(c.dtype) #陣列中的資料型態：int32\n",
    "print(c.itemsize) #陣列中每個元素佔用的空間：4 byte\n",
    "print(len(c)) #回傳第一層陣列的長度：2\n",
    "print(type(c)) #回傳 c 元素的資料型態：numpy.ndarray，即 numpy 的多維陣列型態"
   ]
  },
  {
   "cell_type": "markdown",
   "metadata": {
    "id": "Uf6zC0QZLwCE"
   },
   "source": [
    "### 3. 如何利用 list(...) 實現 a.tolist() 的效果？試著用程式實作。\n"
   ]
  },
  {
   "cell_type": "code",
   "execution_count": 6,
   "metadata": {
    "id": "sCUzHu_BLwCF",
    "outputId": "ba9c8945-8efb-42b1-f978-2bbdda97accd"
   },
   "outputs": [
    {
     "name": "stdout",
     "output_type": "stream",
     "text": [
      "[4, 8, 5, 6, 7, 7]\n",
      "[4, 8, 5, 6, 7, 7]\n"
     ]
    }
   ],
   "source": [
    "a = np.random.randint(10, size=6) \n",
    "\n",
    "print(a.tolist())\n",
    "print(list(a))\n"
   ]
  },
  {
   "cell_type": "code",
   "execution_count": 7,
   "metadata": {
    "id": "IUkVtw8RLwCG",
    "outputId": "e39875a5-5ec7-431b-c12a-485acc167e44"
   },
   "outputs": [
    {
     "name": "stdout",
     "output_type": "stream",
     "text": [
      "[[6, 1, 9, 9], [4, 2, 3, 7], [6, 4, 2, 4]]\n",
      "[array([6, 1, 9, 9]), array([4, 2, 3, 7]), array([6, 4, 2, 4])]\n"
     ]
    }
   ],
   "source": [
    "b = np.random.randint(10, size=(3,4)) \n",
    "\n",
    "print(b.tolist())\n",
    "print(list(b))\n"
   ]
  },
  {
   "cell_type": "code",
   "execution_count": 8,
   "metadata": {
    "id": "NPhF8_CqLwCG",
    "outputId": "51fab908-5bfd-415f-9584-92bb376648c8"
   },
   "outputs": [
    {
     "name": "stdout",
     "output_type": "stream",
     "text": [
      "[[[3, 5], [5, 7], [5, 5]], [[4, 8], [7, 3], [1, 1]]]\n",
      "[array([[3, 5],\n",
      "       [5, 7],\n",
      "       [5, 5]]), array([[4, 8],\n",
      "       [7, 3],\n",
      "       [1, 1]])]\n"
     ]
    }
   ],
   "source": [
    "c = np.random.randint(10, size=(2,3,2)) \n",
    "\n",
    "print(c.tolist())\n",
    "print(list(c))\n"
   ]
  },
  {
   "cell_type": "code",
   "execution_count": 9,
   "metadata": {
    "id": "3Hc8vQYtLwCH",
    "outputId": "1290bc93-84ca-4da4-eb1a-315da37afaff"
   },
   "outputs": [
    {
     "name": "stdout",
     "output_type": "stream",
     "text": [
      "[4, 8, 5, 6, 7, 7]\n",
      "[[6, 1, 9, 9], [4, 2, 3, 7], [6, 4, 2, 4]]\n",
      "[[[3, 5], [5, 7], [5, 5]], [[4, 8], [7, 3], [1, 1]]]\n"
     ]
    }
   ],
   "source": [
    "def tolist(iterable):\n",
    "    if type(iterable) != np.ndarray:\n",
    "        return iterable\n",
    "    nlist = []\n",
    "    for item in iterable:\n",
    "        nlist.append(tolist(item))\n",
    "    return nlist\n",
    "        \n",
    "\n",
    "print(tolist(a))\n",
    "print(tolist(b))\n",
    "print(tolist(c))"
   ]
  },
  {
   "cell_type": "code",
   "execution_count": null,
   "metadata": {
    "id": "2lDVOwFpLwCJ",
    "outputId": "ddfa84e4-3d32-4a68-c250-f57b2f66d830"
   },
   "outputs": [],
   "source": []
  }
 ],
 "metadata": {
  "colab": {
   "name": "01Homework_維元.ipynb",
   "provenance": []
  },
  "kernelspec": {
   "display_name": "Python 3",
   "language": "python",
   "name": "python3"
  },
  "language_info": {
   "codemirror_mode": {
    "name": "ipython",
    "version": 3
   },
   "file_extension": ".py",
   "mimetype": "text/x-python",
   "name": "python",
   "nbconvert_exporter": "python",
   "pygments_lexer": "ipython3",
   "version": "3.8.5"
  }
 },
 "nbformat": 4,
 "nbformat_minor": 1
}
