{
 "cells": [
  {
   "cell_type": "markdown",
   "metadata": {},
   "source": [
    "## 作業:\n",
    "某工廠想知道兩條不同的生產線的產品不良率是否有所不同，由兩條生產線中各抽取 300 個樣本，第一組有  75 個不良品，第二組有 30 個不良品，我們可以宣稱生產線所生產出的產品不良率不相同? (以 0.05 為顯著水準)?    \n",
    "(提示:透過課程投影片的步驟，需思考 𝐻_0、 𝐻_1 的寫法和範例不同唷。)   \n",
    "\n"
   ]
  },
  {
   "cell_type": "code",
   "execution_count": 1,
   "metadata": {
    "colab": {
     "base_uri": "https://localhost:8080/",
     "height": 34
    },
    "colab_type": "code",
    "executionInfo": {
     "elapsed": 1558,
     "status": "ok",
     "timestamp": 1578021044012,
     "user": {
      "displayName": "Mora chen",
      "photoUrl": "https://lh3.googleusercontent.com/a-/AAuE7mB40f7sDArbZ5_DYq02nNcnLD0Ryaf7AhsASSQeLQ=s64",
      "userId": "03171203089166907199"
     },
     "user_tz": -480
    },
    "id": "yz28_IgkYdBW",
    "outputId": "a12f486c-18b3-4fb5-d06c-f162aebd9444"
   },
   "outputs": [],
   "source": [
    "# library\n",
    "import matplotlib.pyplot as plt\n",
    "import numpy as np\n",
    "import pandas as pd\n",
    "from scipy import stats\n",
    "import math\n",
    "import statistics\n",
    "import seaborn as sns"
   ]
  },
  {
   "cell_type": "code",
   "execution_count": 2,
   "metadata": {},
   "outputs": [],
   "source": [
    "import statsmodels.stats.proportion"
   ]
  },
  {
   "cell_type": "code",
   "execution_count": 3,
   "metadata": {},
   "outputs": [
    {
     "data": {
      "text/plain": [
       "'\\n第一組生產線不良率 = Pa\\n第二組生產線不良率 = Pb\\n\\nH0：Pa = Pb\\nH1：Pa != Pb\\n'"
      ]
     },
     "execution_count": 3,
     "metadata": {},
     "output_type": "execute_result"
    }
   ],
   "source": [
    "'''\n",
    "第一組生產線不良率 = Pa\n",
    "第二組生產線不良率 = Pb\n",
    "\n",
    "H0：Pa = Pb\n",
    "H1：Pa != Pb\n",
    "'''"
   ]
  },
  {
   "cell_type": "code",
   "execution_count": 4,
   "metadata": {},
   "outputs": [
    {
     "name": "stdout",
     "output_type": "stream",
     "text": [
      "p =  1.3318728439003627e-06\n",
      "p 小於 0.05，結果傾向拒絕H0，因此可以宣稱生產線所生產出的產品不良率不同！\n"
     ]
    }
   ],
   "source": [
    "A = [75,30] #不良品的個數\n",
    "B = [300, 300] #各組實驗總個數\n",
    "\n",
    "z, p = statsmodels.stats.proportion.proportions_ztest(A, B, alternative='two-sided')\n",
    "\n",
    "print('p = ', p)\n",
    "\n",
    "if p < 0.05:\n",
    "    print('p 小於 0.05，結果傾向拒絕H0，因此可以宣稱生產線所生產出的產品不良率不同！')\n",
    "else:\n",
    "    print('p 大於 0.05，結果傾向接受H0，因此可以宣稱生產線所生產出的產品不良率是相同的！')"
   ]
  },
  {
   "cell_type": "code",
   "execution_count": null,
   "metadata": {},
   "outputs": [],
   "source": []
  }
 ],
 "metadata": {
  "colab": {
   "name": "Day33.YOLO 細節理解 - 網路輸出的後處理_HW.ipynb",
   "provenance": []
  },
  "kernelspec": {
   "display_name": "Python 3",
   "language": "python",
   "name": "python3"
  },
  "language_info": {
   "codemirror_mode": {
    "name": "ipython",
    "version": 3
   },
   "file_extension": ".py",
   "mimetype": "text/x-python",
   "name": "python",
   "nbconvert_exporter": "python",
   "pygments_lexer": "ipython3",
   "version": "3.8.5"
  }
 },
 "nbformat": 4,
 "nbformat_minor": 1
}
